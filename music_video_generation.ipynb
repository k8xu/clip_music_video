{
 "cells": [
  {
   "cell_type": "markdown",
   "metadata": {},
   "source": [
    "# Lyric and Audio-Based Music Video Generation"
   ]
  },
  {
   "cell_type": "markdown",
   "metadata": {},
   "source": [
    "### Imports"
   ]
  },
  {
   "cell_type": "code",
   "execution_count": null,
   "metadata": {},
   "outputs": [],
   "source": [
    "!pip install git+https://github.com/openai/CLIP.git"
   ]
  },
  {
   "cell_type": "code",
   "execution_count": null,
   "metadata": {},
   "outputs": [],
   "source": [
    "import cv2\n",
    "import os\n",
    "import argparse\n",
    "from youtube_transcript_api import YouTubeTranscriptApi\n",
    "from moviepy.editor import VideoFileClip, AudioFileClip, CompositeAudioClip"
   ]
  },
  {
   "cell_type": "markdown",
   "metadata": {},
   "source": [
    "### Create Lyric File"
   ]
  },
  {
   "cell_type": "code",
   "execution_count": null,
   "metadata": {},
   "outputs": [],
   "source": [
    "def create_lyric_file(lyric_files_folder, song_name, youtube_video_id):\n",
    "    transcript = YouTubeTranscriptApi.get_transcript(youtube_video_id)\n",
    "    lyric_file_save_path = f\"{lyric_files_folder}/{song_name}.txt\"\n",
    "\n",
    "    new_file = open(lyric_file_save_path, 'w')\n",
    "    new_file.write(\"00:00 \" + song_name + \"\\n\")\n",
    "\n",
    "    for lyric_dict in transcript:\n",
    "        lyric = lyric_dict[\"text\"].lower()\n",
    "\n",
    "        lyric = lyric.replace(\"\\n\", \" \")\n",
    "        chars_to_remove = [\"♪\", \"(\", \")\", \"[\", \"]\", \"{\", \"}\"]\n",
    "        for char in chars_to_remove:\n",
    "            lyric = lyric.replace(char, \"\")\n",
    "        \n",
    "        start_time = lyric_dict[\"start\"]\n",
    "        duration = lyric_dict[\"duration\"]\n",
    "        end_time = round(start_time + duration, 2)\n",
    "\n",
    "        end_time_minutes = str(int(end_time/60))\n",
    "        if len(end_time_minutes) == 1:\n",
    "            end_time_minutes = \"0\" + end_time_minutes\n",
    "        \n",
    "        end_time_seconds = str(int(end_time - int(end_time_minutes)*60))\n",
    "        if len(end_time_seconds) == 1:\n",
    "            end_time_seconds = \"0\" + end_time_seconds\n",
    "        \n",
    "        line_to_write = f\"{end_time_minutes}:{end_time_seconds} {lyric}\"\n",
    "        new_file.write(line_to_write + \"\\n\")\n",
    "\n",
    "    new_file.close()\n",
    "    \n",
    "    return lyric_file_save_path"
   ]
  },
  {
   "cell_type": "code",
   "execution_count": null,
   "metadata": {},
   "outputs": [],
   "source": [
    "def map_audio_features_to_image_style(audio_features):\n",
    "    energy = audio_features[0]['energy']\n",
    "    energy_text = ['a watercolor painting', 'Van Gogh', 'a photograph', 'Picasso', 'pop art']\n",
    "    energy_index = int(energy / 0.2)\n",
    "    if energy_index >= len(energy_text):\n",
    "        energy_index = len(energy_text) - 1\n",
    "\n",
    "    valence = audio_features[0]['valence']\n",
    "    valence_text = ['dark', 'gray', 'neutral', 'pastel', 'neon']\n",
    "    valence_index = int(valence / 0.2)\n",
    "    if valence_index >= len(valence_text):\n",
    "        valence_index = len(valence_text) - 1\n",
    "\n",
    "    style_string = f'in the style of {energy_text[energy_index]} in {valence_text[valence_index]} colors'\n",
    "    \n",
    "    return style_string"
   ]
  },
  {
   "cell_type": "code",
   "execution_count": null,
   "metadata": {},
   "outputs": [],
   "source": [
    "def update_lyrics_with_style_string(lyric_file, audio_features):\n",
    "    style_string = map_audio_features_to_image_style(audio_features)\n",
    "\n",
    "    original_file = open(lyric_file, \"r\")\n",
    "    new_lines = []\n",
    "    for line in original_file:\n",
    "        new_line = f'{line.rstrip()} {style_string}'\n",
    "        new_lines.append(new_line)\n",
    "\n",
    "    modified_lyric_file_save_path = lyric_file.split(\".\")[0] + \"_modified.txt\"\n",
    "    with open(modified_lyric_file_save_path, 'w') as new_file:\n",
    "        for line in new_lines:\n",
    "            new_file.write(line)\n",
    "            new_file.write('\\n')\n",
    "    \n",
    "    return modified_lyric_file_save_path"
   ]
  },
  {
   "cell_type": "markdown",
   "metadata": {},
   "source": [
    "### Create Music Video"
   ]
  },
  {
   "cell_type": "code",
   "execution_count": null,
   "metadata": {},
   "outputs": [],
   "source": [
    "def create_music_video_without_audio(generated_images_folder, modified_lyric_file_path, music_video_save_path):\n",
    "    images = [img for img in os.listdir(generated_images_folder) if img.endswith(\".png\")]\n",
    "    \n",
    "    unique_num_to_image_name = {}\n",
    "    for img_name in images:\n",
    "        img_split = img_name.split(\"_\", 1)\n",
    "        unique_num = int(img_split[0])\n",
    "        unique_num_to_image_name[unique_num] = img_name\n",
    "\n",
    "    ordered_images = []\n",
    "    for i in range(len(images)):\n",
    "        ordered_images.append(unique_num_to_image_name[i])\n",
    "        \n",
    "    with open(modified_lyric_file_path) as f:\n",
    "        lines = f.readlines()\n",
    "\n",
    "    lyric_time_length = lines[-1].split()[0]\n",
    "    lyric_time_length_split = lyric_time_length.split(\":\")\n",
    "    lyric_time_length_min = int(lyric_time_length_split[0])\n",
    "    lyric_time_length_sec = int(lyric_time_length_split[1])\n",
    "    lyric_time_length_secs = lyric_time_length_min*60 + lyric_time_length_sec\n",
    "    \n",
    "    desired_fps = len(ordered_images)/lyric_time_length_secs\n",
    "    \n",
    "    frame = cv2.imread(os.path.join(generated_images_folder, ordered_images[0]))\n",
    "    height, width, layers = frame.shape\n",
    "\n",
    "    fourcc = cv2.VideoWriter_fourcc('M','J','P','G')\n",
    "    video = cv2.VideoWriter(music_video_save_path, fourcc, desired_fps, (height, width))\n",
    "\n",
    "    for image in ordered_images:\n",
    "        video.write(cv2.imread(os.path.join(generated_images_folder, image)))\n",
    "\n",
    "    cv2.destroyAllWindows()\n",
    "    video.release()"
   ]
  },
  {
   "cell_type": "code",
   "execution_count": null,
   "metadata": {},
   "outputs": [],
   "source": [
    "def add_audio_to_music_video(music_video_without_audio_path, audio_file_path, music_video_with_audio_save_path):\n",
    "    composite = False\n",
    "    volume_factor = 1.0\n",
    "\n",
    "    video_clip = VideoFileClip(music_video_without_audio_path)\n",
    "    audio_clip = AudioFileClip(audio_file_path)\n",
    "    start = 0\n",
    "    end = video_clip.end\n",
    "    audio_clip = audio_clip.volumex(volume_factor)\n",
    "\n",
    "    audio_clip = audio_clip.subclip(start, end)\n",
    "    if composite:\n",
    "        final_audio = CompositeAudioClip([video_clip.audio, audio_clip])\n",
    "    else:\n",
    "        final_audio = audio_clip\n",
    "    final_clip = video_clip.set_audio(final_audio)\n",
    "    final_clip.write_videofile(music_video_with_audio_save_path)"
   ]
  },
  {
   "cell_type": "markdown",
   "metadata": {
    "tags": []
   },
   "source": [
    "### Example Song: Levitating by Dua Lipa"
   ]
  },
  {
   "cell_type": "code",
   "execution_count": null,
   "metadata": {},
   "outputs": [],
   "source": [
    "levitating_song_name = \"Levitating\"\n",
    "levitating_youtube_video_id = \"G2nJPEDc02k\"\n",
    "levitating_spotify_audio_features = [{'danceability': 0.695,\n",
    "                                      'energy': 0.884,\n",
    "                                      'key': 6,\n",
    "                                      'loudness': -2.278,\n",
    "                                      'mode': 0,\n",
    "                                      'speechiness': 0.0753,\n",
    "                                      'acousticness': 0.0561,\n",
    "                                      'instrumentalness': 0,\n",
    "                                      'liveness': 0.213,\n",
    "                                      'valence': 0.914,\n",
    "                                      'tempo': 103.014,\n",
    "                                      'type': 'audio_features',\n",
    "                                      'id': '39LLxExYz6ewLAcYrzQQyP',\n",
    "                                      'uri': 'spotify:track:39LLxExYz6ewLAcYrzQQyP',\n",
    "                                      'track_href': 'https://api.spotify.com/v1/tracks/39LLxExYz6ewLAcYrzQQyP',\n",
    "                                      'analysis_url': 'https://api.spotify.com/v1/audio-analysis/39LLxExYz6ewLAcYrzQQyP',\n",
    "                                      'duration_ms': 203808,\n",
    "                                      'time_signature': 4}]"
   ]
  },
  {
   "cell_type": "code",
   "execution_count": null,
   "metadata": {},
   "outputs": [],
   "source": [
    "levitating_lyric_file_path = create_lyric_file(\"lyric_files\", levitating_song_name, levitating_youtube_video_id)"
   ]
  },
  {
   "cell_type": "code",
   "execution_count": null,
   "metadata": {},
   "outputs": [],
   "source": [
    "levitating_modified_lyric_file_path = update_lyrics_with_style_string(levitating_lyric_file_path,\n",
    "                                                                      levitating_spotify_audio_features)"
   ]
  },
  {
   "cell_type": "code",
   "execution_count": null,
   "metadata": {},
   "outputs": [],
   "source": [
    "!python3 main.py --epochs 40 \\\n",
    "--textfile \"lyric_files/Levitating_modified.txt\" \\\n",
    "--audiofile \"audio_files/Levitating.m4a\" \\\n",
    "--savepath \"levitating_generated_images\""
   ]
  },
  {
   "cell_type": "code",
   "execution_count": null,
   "metadata": {},
   "outputs": [],
   "source": [
    "levitating_audio_path = \"audio_files/Levitating.m4a\"\n",
    "levitating_generated_images_folder = \"levitating_generated_images\"\n",
    "levitating_music_video_without_audio_path = \"levitating_music_video.avi\"\n",
    "levitating_music_video_with_audio_path = \"levitating_music_video.mp4\""
   ]
  },
  {
   "cell_type": "code",
   "execution_count": null,
   "metadata": {},
   "outputs": [],
   "source": [
    "create_music_video_without_audio(levitating_generated_images_folder,\n",
    "                                 levitating_modified_lyric_file_path,\n",
    "                                 levitating_music_video_without_audio_path)"
   ]
  },
  {
   "cell_type": "code",
   "execution_count": null,
   "metadata": {},
   "outputs": [],
   "source": [
    "add_audio_to_music_video(levitating_music_video_without_audio_path,\n",
    "                         levitating_audio_path,\n",
    "                         levitating_music_video_with_audio_path)"
   ]
  }
 ],
 "metadata": {
  "interpreter": {
   "hash": "3dc830fe31d8405c71241cbf9c0244912bb368e0cec4594f8e815ae42511f83e"
  },
  "kernelspec": {
   "display_name": "cv-project",
   "language": "python",
   "name": "cv-project"
  },
  "language_info": {
   "codemirror_mode": {
    "name": "ipython",
    "version": 3
   },
   "file_extension": ".py",
   "mimetype": "text/x-python",
   "name": "python",
   "nbconvert_exporter": "python",
   "pygments_lexer": "ipython3",
   "version": "3.7.13"
  }
 },
 "nbformat": 4,
 "nbformat_minor": 4
}
