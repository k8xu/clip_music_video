{
 "cells": [
  {
   "cell_type": "markdown",
   "metadata": {},
   "source": [
    "# Lyric and Audio-Based Music Video Generation"
   ]
  },
  {
   "cell_type": "markdown",
   "metadata": {},
   "source": [
    "### Imports"
   ]
  },
  {
   "cell_type": "code",
   "execution_count": 1,
   "metadata": {},
   "outputs": [],
   "source": [
    "import cv2\n",
    "import os\n",
    "from youtube_transcript_api import YouTubeTranscriptApi"
   ]
  },
  {
   "cell_type": "markdown",
   "metadata": {},
   "source": [
    "### Create Lyric File"
   ]
  },
  {
   "cell_type": "code",
   "execution_count": 20,
   "metadata": {},
   "outputs": [],
   "source": [
    "def create_lyric_file(lyric_files_folder, song_name, youtube_video_id):\n",
    "    transcript = YouTubeTranscriptApi.get_transcript(youtube_video_id)\n",
    "    lyric_file_save_path = f\"{lyric_files_folder}/{song_name}.txt\"\n",
    "\n",
    "    new_file = open(lyric_file_save_path, 'w')\n",
    "    new_file.write(\"00:00 \" + song_name + \"\\n\")\n",
    "\n",
    "    for lyric_dict in transcript:\n",
    "        lyric = lyric_dict[\"text\"].lower()\n",
    "\n",
    "        lyric = lyric.replace(\"\\n\", \" \")\n",
    "        chars_to_remove = [\"♪\", \"(\", \")\", \"[\", \"]\", \"{\", \"}\"]\n",
    "        for char in chars_to_remove:\n",
    "            lyric = lyric.replace(char, \"\")\n",
    "        \n",
    "        start_time = lyric_dict[\"start\"]\n",
    "        duration = lyric_dict[\"duration\"]\n",
    "        end_time = round(start_time + duration, 2)\n",
    "\n",
    "        end_time_minutes = str(int(end_time/60))\n",
    "        if len(end_time_minutes) == 1:\n",
    "            end_time_minutes = \"0\" + end_time_minutes\n",
    "        \n",
    "        end_time_seconds = str(int(end_time - int(end_time_minutes)*60))\n",
    "        if len(end_time_seconds) == 1:\n",
    "            end_time_seconds = \"0\" + end_time_seconds\n",
    "        \n",
    "        line_to_write = f\"{end_time_minutes}:{end_time_seconds} {lyric}\"\n",
    "        new_file.write(line_to_write + \"\\n\")\n",
    "\n",
    "    new_file.close()\n",
    "    \n",
    "    return lyric_file_save_path"
   ]
  },
  {
   "cell_type": "code",
   "execution_count": 26,
   "metadata": {},
   "outputs": [],
   "source": [
    "def map_audio_features_to_image_style(audio_features):\n",
    "    energy = audio_features[0]['energy']\n",
    "    energy_text = ['a watercolor painting', 'Van Gogh', 'a photograph', 'Picasso', 'pop art']\n",
    "    energy_index = int(energy / 0.2)\n",
    "    if energy_index >= len(energy_text):\n",
    "        energy_index = len(energy_text) - 1\n",
    "\n",
    "    valence = audio_features[0]['valence']\n",
    "    valence_text = ['dark', 'gray', 'neutral', 'pastel', 'neon']\n",
    "    valence_index = int(valence / 0.2)\n",
    "    if valence_index >= len(valence_text):\n",
    "        valence_index = len(valence_text) - 1\n",
    "\n",
    "    style_string = f'in the style of {energy_text[energy_index]} in {valence_text[valence_index]} colors'\n",
    "    \n",
    "    return style_string"
   ]
  },
  {
   "cell_type": "code",
   "execution_count": 27,
   "metadata": {},
   "outputs": [],
   "source": [
    "def update_lyrics_with_style_string(lyric_file, audio_features):\n",
    "    style_string = map_audio_features_to_image_style(audio_features)\n",
    "\n",
    "    original_file = open(lyric_file, \"r\")\n",
    "    new_lines = []\n",
    "    for line in original_file:\n",
    "        new_line = f'{line.rstrip()} {style_string}'\n",
    "        new_lines.append(new_line)\n",
    "\n",
    "    modified_lyric_file_save_path = lyric_file.split(\".\")[0] + \"_modified.txt\"\n",
    "    with open(modified_lyric_file_save_path, 'w') as new_file:\n",
    "        for line in new_lines:\n",
    "            new_file.write(line)\n",
    "            new_file.write('\\n')\n",
    "    \n",
    "    return modified_lyric_file_save_path"
   ]
  },
  {
   "cell_type": "markdown",
   "metadata": {},
   "source": [
    "### Create Music Video"
   ]
  },
  {
   "cell_type": "code",
   "execution_count": null,
   "metadata": {},
   "outputs": [],
   "source": []
  },
  {
   "cell_type": "markdown",
   "metadata": {
    "tags": []
   },
   "source": [
    "### Example Song: Levitating by Dua Lipa"
   ]
  },
  {
   "cell_type": "code",
   "execution_count": 23,
   "metadata": {},
   "outputs": [],
   "source": [
    "levitating_song_name = \"Levitating\"\n",
    "levitating_youtube_video_id = \"G2nJPEDc02k\"\n",
    "levitating_spotify_audio_features = [{'danceability': 0.695,\n",
    "                                      'energy': 0.884,\n",
    "                                      'key': 6,\n",
    "                                      'loudness': -2.278,\n",
    "                                      'mode': 0,\n",
    "                                      'speechiness': 0.0753,\n",
    "                                      'acousticness': 0.0561,\n",
    "                                      'instrumentalness': 0,\n",
    "                                      'liveness': 0.213,\n",
    "                                      'valence': 0.914,\n",
    "                                      'tempo': 103.014,\n",
    "                                      'type': 'audio_features',\n",
    "                                      'id': '39LLxExYz6ewLAcYrzQQyP',\n",
    "                                      'uri': 'spotify:track:39LLxExYz6ewLAcYrzQQyP',\n",
    "                                      'track_href': 'https://api.spotify.com/v1/tracks/39LLxExYz6ewLAcYrzQQyP',\n",
    "                                      'analysis_url': 'https://api.spotify.com/v1/audio-analysis/39LLxExYz6ewLAcYrzQQyP',\n",
    "                                      'duration_ms': 203808,\n",
    "                                      'time_signature': 4}]"
   ]
  },
  {
   "cell_type": "code",
   "execution_count": null,
   "metadata": {},
   "outputs": [],
   "source": [
    "levitating_lyric_file_path = create_lyric_file(\"lyric_files\", levitating_song_name, levitating_youtube_video_id)"
   ]
  },
  {
   "cell_type": "code",
   "execution_count": null,
   "metadata": {},
   "outputs": [],
   "source": [
    "levitating_modified_lyric_file_path = update_lyrics_with_style_string(levitating_lyric_file_path,\n",
    "                                                                      levitating_spotify_audio_features)"
   ]
  },
  {
   "cell_type": "code",
   "execution_count": null,
   "metadata": {},
   "outputs": [],
   "source": [
    "!python3 main.py --epochs 80 \\\n",
    "--textfile \"/content/drive/MyDrive/6.869_Computer_Vision/CV_Final_Project/Lyric_files/White Horse.txt\" \\\n",
    "--audiofile \"/content/drive/MyDrive/6.869_Computer_Vision/CV_Final_Project/music/White Horse.m4a\" \\\n",
    "--savepath /content/drive/MyDrive/6.869_Computer_Vision/CV_Final_Project/white_horse_output_images_without_style_80epochs"
   ]
  }
 ],
 "metadata": {
  "interpreter": {
   "hash": "3dc830fe31d8405c71241cbf9c0244912bb368e0cec4594f8e815ae42511f83e"
  },
  "kernelspec": {
   "display_name": "cv-project",
   "language": "python",
   "name": "cv-project"
  },
  "language_info": {
   "codemirror_mode": {
    "name": "ipython",
    "version": 3
   },
   "file_extension": ".py",
   "mimetype": "text/x-python",
   "name": "python",
   "nbconvert_exporter": "python",
   "pygments_lexer": "ipython3",
   "version": "3.7.13"
  }
 },
 "nbformat": 4,
 "nbformat_minor": 4
}
